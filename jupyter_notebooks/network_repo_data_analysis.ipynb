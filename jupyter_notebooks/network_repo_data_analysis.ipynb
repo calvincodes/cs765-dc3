{
 "cells": [
  {
   "cell_type": "code",
   "execution_count": 1,
   "metadata": {},
   "outputs": [],
   "source": [
    "import pandas as pd\n",
    "from os.path import dirname\n",
    "import numpy as np"
   ]
  },
  {
   "cell_type": "code",
   "execution_count": 65,
   "metadata": {},
   "outputs": [],
   "source": [
    "edge1 = pd.read_csv('../../other_sources/network-visualization/edge1.csv', skipinitialspace=True)\n",
    "node1 = pd.read_csv('../../other_sources/network-visualization/node1.csv', skipinitialspace=True)\n",
    "my_edge = pd.read_csv('../dataset/pet_supplies_edges.csv')\n",
    "my_node = pd.read_csv('../dataset/pet_supplies.csv')"
   ]
  },
  {
   "cell_type": "code",
   "execution_count": 70,
   "metadata": {},
   "outputs": [],
   "source": [
    "my_edge = my_edge[my_edge['src'] == 493]"
   ]
  },
  {
   "cell_type": "code",
   "execution_count": 75,
   "metadata": {},
   "outputs": [
    {
     "name": "stdout",
     "output_type": "stream",
     "text": [
      "493 497\n",
      "493 498\n",
      "493 499\n",
      "493 500\n",
      "493 501\n",
      "493 502\n"
     ]
    }
   ],
   "source": [
    "for index, row in my_edge.iterrows():\n",
    "    print(my_edge['src'][index], my_edge['dest'][index])"
   ]
  },
  {
   "cell_type": "code",
   "execution_count": null,
   "metadata": {},
   "outputs": [],
   "source": []
  }
 ],
 "metadata": {
  "kernelspec": {
   "display_name": "Python 3",
   "language": "python",
   "name": "python3"
  },
  "language_info": {
   "codemirror_mode": {
    "name": "ipython",
    "version": 3
   },
   "file_extension": ".py",
   "mimetype": "text/x-python",
   "name": "python",
   "nbconvert_exporter": "python",
   "pygments_lexer": "ipython3",
   "version": "3.7.2"
  }
 },
 "nbformat": 4,
 "nbformat_minor": 2
}
