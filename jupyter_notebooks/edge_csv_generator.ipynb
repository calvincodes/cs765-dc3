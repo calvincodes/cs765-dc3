{
 "cells": [
  {
   "cell_type": "code",
   "execution_count": 1,
   "metadata": {},
   "outputs": [],
   "source": [
    "import pandas as pd\n",
    "from os.path import dirname\n",
    "import numpy as np"
   ]
  },
  {
   "cell_type": "code",
   "execution_count": 7,
   "metadata": {},
   "outputs": [],
   "source": [
    "dataset = pd.read_csv('../dataset/books.csv', skipinitialspace=True)"
   ]
  },
  {
   "cell_type": "code",
   "execution_count": 8,
   "metadata": {},
   "outputs": [],
   "source": [
    "newDF = pd.DataFrame(columns = ['src','dest'], data = dataset[[\"id\", \"children\"]].to_numpy())"
   ]
  },
  {
   "cell_type": "code",
   "execution_count": 9,
   "metadata": {},
   "outputs": [],
   "source": [
    "edge_list = dataset[[\"id\", \"children\"]]\n",
    "edge_list.columns = ['src','dest']"
   ]
  },
  {
   "cell_type": "code",
   "execution_count": 10,
   "metadata": {},
   "outputs": [],
   "source": [
    "src_arr = []\n",
    "dest_arr = []\n",
    "ids = []\n",
    "for _, row in edge_list.iterrows():\n",
    "    src = row.src\n",
    "    dest_list = row.dest.strip('][').split(', ')\n",
    "    for dest in dest_list:\n",
    "        dest_arr.append(dest)\n",
    "        src_arr.append(src)\n",
    "src_to_dest = pd.DataFrame({\n",
    "    \"src\": src_arr,\n",
    "    \"dest\": dest_arr\n",
    "})"
   ]
  },
  {
   "cell_type": "code",
   "execution_count": 11,
   "metadata": {},
   "outputs": [],
   "source": [
    "src_to_dest.replace(\"\", -1, inplace=True)\n",
    "src_to_dest = src_to_dest[src_to_dest.dest != -1]\n",
    "src_to_dest.to_csv(index=False, path_or_buf=\"../dataset/books_edges.csv\")"
   ]
  },
  {
   "cell_type": "code",
   "execution_count": null,
   "metadata": {},
   "outputs": [],
   "source": []
  }
 ],
 "metadata": {
  "kernelspec": {
   "display_name": "Python 3",
   "language": "python",
   "name": "python3"
  },
  "language_info": {
   "codemirror_mode": {
    "name": "ipython",
    "version": 3
   },
   "file_extension": ".py",
   "mimetype": "text/x-python",
   "name": "python",
   "nbconvert_exporter": "python",
   "pygments_lexer": "ipython3",
   "version": "3.7.2"
  }
 },
 "nbformat": 4,
 "nbformat_minor": 2
}
